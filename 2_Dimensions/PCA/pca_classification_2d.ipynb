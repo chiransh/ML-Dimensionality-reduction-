{
 "cells": [
  {
   "cell_type": "markdown",
   "metadata": {},
   "source": [
    "### Digit Classification of MNIST dataset after dimensionality reduction from 784 to 2 using PCA"
   ]
  },
  {
   "cell_type": "markdown",
   "metadata": {},
   "source": [
    "##### Validation Accuracy ~ 47%"
   ]
  },
  {
   "cell_type": "code",
   "execution_count": 1,
   "metadata": {
    "collapsed": false
   },
   "outputs": [
    {
     "name": "stderr",
     "output_type": "stream",
     "text": [
      "Using gpu device 0: GeForce 920M (CNMeM is disabled, cuDNN 5005)\n",
      "Using Theano backend.\n"
     ]
    }
   ],
   "source": [
    "import pandas as pd\n",
    "import numpy as np\n",
    "import matplotlib.pyplot as plt\n",
    "%matplotlib inline\n",
    "import theano\n",
    "from keras.models import Sequential,Model\n",
    "from keras.layers import Dense,Activation, Dropout\n",
    "from sklearn.decomposition import PCA\n",
    "from keras.utils import np_utils"
   ]
  },
  {
   "cell_type": "code",
   "execution_count": 7,
   "metadata": {
    "collapsed": false
   },
   "outputs": [
    {
     "name": "stdout",
     "output_type": "stream",
     "text": [
      "(42000, 784) (42000,)\n",
      "(42000, 784) (30000,) (12000,)\n"
     ]
    }
   ],
   "source": [
    "x = pd.read_csv('/home/chiransh/all_projects/ML/t-sne_vs_pca_vs_autoencoder/train.csv')\n",
    "X = np.array(x)\n",
    "x = X[:,1:]\n",
    "y = X[:,0]\n",
    "print x.shape,y.shape\n",
    "\n",
    "y_train = y[:30000]\n",
    "y_crossval = y[30000:]\n",
    "print x.shape,y_train.shape,y_crossval.shape"
   ]
  },
  {
   "cell_type": "code",
   "execution_count": 8,
   "metadata": {
    "collapsed": true
   },
   "outputs": [],
   "source": [
    "x = (x - x.mean())/x.std()"
   ]
  },
  {
   "cell_type": "code",
   "execution_count": 9,
   "metadata": {
    "collapsed": false
   },
   "outputs": [
    {
     "name": "stdout",
     "output_type": "stream",
     "text": [
      "(30000, 2) (12000, 2) (30000, 10) (12000, 10)\n"
     ]
    }
   ],
   "source": [
    "pca = PCA(n_components=2)\n",
    "\n",
    "X = pca.fit_transform(x)\n",
    "#X_crossval = pca.fit_transform(x_crossval)\n",
    "X_train = X[:30000,:]\n",
    "X_crossval = X[30000:,:]\n",
    "Y_train = np_utils.to_categorical(y_train)\n",
    "Y_crossval = np_utils.to_categorical(y_crossval)\n",
    "print X_train.shape, X_crossval.shape, Y_train.shape, Y_crossval.shape"
   ]
  },
  {
   "cell_type": "code",
   "execution_count": 10,
   "metadata": {
    "collapsed": false
   },
   "outputs": [
    {
     "name": "stdout",
     "output_type": "stream",
     "text": [
      "____________________________________________________________________________________________________\n",
      "Layer (type)                     Output Shape          Param #     Connected to                     \n",
      "====================================================================================================\n",
      "dense_3 (Dense)                  (None, 16)            48          dense_input_2[0][0]              \n",
      "____________________________________________________________________________________________________\n",
      "activation_3 (Activation)        (None, 16)            0           dense_3[0][0]                    \n",
      "____________________________________________________________________________________________________\n",
      "dropout_2 (Dropout)              (None, 16)            0           activation_3[0][0]               \n",
      "____________________________________________________________________________________________________\n",
      "dense_4 (Dense)                  (None, 10)            170         dropout_2[0][0]                  \n",
      "____________________________________________________________________________________________________\n",
      "activation_4 (Activation)        (None, 10)            0           dense_4[0][0]                    \n",
      "====================================================================================================\n",
      "Total params: 218\n",
      "____________________________________________________________________________________________________\n"
     ]
    }
   ],
   "source": [
    "model = Sequential()\n",
    "\n",
    "model.add(Dense(16, input_dim=2))\n",
    "model.add(Activation('relu'))\n",
    "model.add(Dropout(0.35))\n",
    "model.add(Dense(10))\n",
    "model.add(Activation('softmax'))\n",
    "\n",
    "model.summary()\n",
    "\n",
    "model.compile(loss='categorical_crossentropy', optimizer='adam', metrics=['accuracy'])"
   ]
  },
  {
   "cell_type": "code",
   "execution_count": 11,
   "metadata": {
    "collapsed": false
   },
   "outputs": [
    {
     "name": "stdout",
     "output_type": "stream",
     "text": [
      "Train on 30000 samples, validate on 12000 samples\n",
      "Epoch 1/100\n",
      "30000/30000 [==============================] - 4s - loss: 3.1513 - acc: 0.1734 - val_loss: 1.9786 - val_acc: 0.2578\n",
      "Epoch 2/100\n",
      "30000/30000 [==============================] - 4s - loss: 2.0605 - acc: 0.2757 - val_loss: 1.5876 - val_acc: 0.3913\n",
      "Epoch 3/100\n",
      "30000/30000 [==============================] - 3s - loss: 1.8000 - acc: 0.3290 - val_loss: 1.5116 - val_acc: 0.4046\n",
      "Epoch 4/100\n",
      "30000/30000 [==============================] - 3s - loss: 1.6969 - acc: 0.3455 - val_loss: 1.4755 - val_acc: 0.4223\n",
      "Epoch 5/100\n",
      "30000/30000 [==============================] - 5s - loss: 1.6433 - acc: 0.3559 - val_loss: 1.4551 - val_acc: 0.4248\n",
      "Epoch 6/100\n",
      "30000/30000 [==============================] - 5s - loss: 1.6002 - acc: 0.3695 - val_loss: 1.4371 - val_acc: 0.4301\n",
      "Epoch 7/100\n",
      "30000/30000 [==============================] - 5s - loss: 1.5787 - acc: 0.3747 - val_loss: 1.4231 - val_acc: 0.4312\n",
      "Epoch 8/100\n",
      "30000/30000 [==============================] - 5s - loss: 1.5524 - acc: 0.3788 - val_loss: 1.4110 - val_acc: 0.4343\n",
      "Epoch 9/100\n",
      "30000/30000 [==============================] - 5s - loss: 1.5426 - acc: 0.3803 - val_loss: 1.4006 - val_acc: 0.4371\n",
      "Epoch 10/100\n",
      "30000/30000 [==============================] - 5s - loss: 1.5276 - acc: 0.3899 - val_loss: 1.3942 - val_acc: 0.4372\n",
      "Epoch 11/100\n",
      "30000/30000 [==============================] - 5s - loss: 1.5179 - acc: 0.3963 - val_loss: 1.3871 - val_acc: 0.4383\n",
      "Epoch 12/100\n",
      "30000/30000 [==============================] - 5s - loss: 1.5103 - acc: 0.4025 - val_loss: 1.3825 - val_acc: 0.4382\n",
      "Epoch 13/100\n",
      "30000/30000 [==============================] - 5s - loss: 1.5030 - acc: 0.4011 - val_loss: 1.3791 - val_acc: 0.4417\n",
      "Epoch 14/100\n",
      "30000/30000 [==============================] - 5s - loss: 1.4986 - acc: 0.4049 - val_loss: 1.3771 - val_acc: 0.4413\n",
      "Epoch 15/100\n",
      "30000/30000 [==============================] - 5s - loss: 1.4956 - acc: 0.4052 - val_loss: 1.3731 - val_acc: 0.4417\n",
      "Epoch 16/100\n",
      "30000/30000 [==============================] - 3s - loss: 1.4929 - acc: 0.4077 - val_loss: 1.3708 - val_acc: 0.4427\n",
      "Epoch 17/100\n",
      "30000/30000 [==============================] - 3s - loss: 1.4811 - acc: 0.4122 - val_loss: 1.3683 - val_acc: 0.4458\n",
      "Epoch 18/100\n",
      "30000/30000 [==============================] - 4s - loss: 1.4816 - acc: 0.4138 - val_loss: 1.3661 - val_acc: 0.4445\n",
      "Epoch 19/100\n",
      "30000/30000 [==============================] - 5s - loss: 1.4831 - acc: 0.4148 - val_loss: 1.3652 - val_acc: 0.4467\n",
      "Epoch 20/100\n",
      "30000/30000 [==============================] - 5s - loss: 1.4761 - acc: 0.4131 - val_loss: 1.3628 - val_acc: 0.4476\n",
      "Epoch 21/100\n",
      "30000/30000 [==============================] - 5s - loss: 1.4736 - acc: 0.4158 - val_loss: 1.3599 - val_acc: 0.4448\n",
      "Epoch 22/100\n",
      "30000/30000 [==============================] - 5s - loss: 1.4712 - acc: 0.4130 - val_loss: 1.3591 - val_acc: 0.4469\n",
      "Epoch 23/100\n",
      "30000/30000 [==============================] - 5s - loss: 1.4699 - acc: 0.4116 - val_loss: 1.3581 - val_acc: 0.4487\n",
      "Epoch 24/100\n",
      "30000/30000 [==============================] - 5s - loss: 1.4692 - acc: 0.4182 - val_loss: 1.3578 - val_acc: 0.4482\n",
      "Epoch 25/100\n",
      "30000/30000 [==============================] - 5s - loss: 1.4704 - acc: 0.4148 - val_loss: 1.3564 - val_acc: 0.4488\n",
      "Epoch 26/100\n",
      "30000/30000 [==============================] - 5s - loss: 1.4652 - acc: 0.4203 - val_loss: 1.3553 - val_acc: 0.4488\n",
      "Epoch 27/100\n",
      "30000/30000 [==============================] - 5s - loss: 1.4640 - acc: 0.4181 - val_loss: 1.3531 - val_acc: 0.4486\n",
      "Epoch 28/100\n",
      "30000/30000 [==============================] - 5s - loss: 1.4589 - acc: 0.4199 - val_loss: 1.3530 - val_acc: 0.4521\n",
      "Epoch 29/100\n",
      "30000/30000 [==============================] - 4s - loss: 1.4615 - acc: 0.4158 - val_loss: 1.3514 - val_acc: 0.4529\n",
      "Epoch 30/100\n",
      "30000/30000 [==============================] - 2s - loss: 1.4599 - acc: 0.4181 - val_loss: 1.3511 - val_acc: 0.4530\n",
      "Epoch 31/100\n",
      "30000/30000 [==============================] - 0s - loss: 1.4581 - acc: 0.4229 - val_loss: 1.3501 - val_acc: 0.4561\n",
      "Epoch 32/100\n",
      "30000/30000 [==============================] - 0s - loss: 1.4526 - acc: 0.4186 - val_loss: 1.3461 - val_acc: 0.4533\n",
      "Epoch 33/100\n",
      "30000/30000 [==============================] - 0s - loss: 1.4527 - acc: 0.4206 - val_loss: 1.3462 - val_acc: 0.4489\n",
      "Epoch 34/100\n",
      "30000/30000 [==============================] - 0s - loss: 1.4546 - acc: 0.4213 - val_loss: 1.3449 - val_acc: 0.4531\n",
      "Epoch 35/100\n",
      "30000/30000 [==============================] - 1s - loss: 1.4499 - acc: 0.4212 - val_loss: 1.3443 - val_acc: 0.4538\n",
      "Epoch 36/100\n",
      "30000/30000 [==============================] - 0s - loss: 1.4524 - acc: 0.4197 - val_loss: 1.3439 - val_acc: 0.4542\n",
      "Epoch 37/100\n",
      "30000/30000 [==============================] - 0s - loss: 1.4509 - acc: 0.4203 - val_loss: 1.3423 - val_acc: 0.4552\n",
      "Epoch 38/100\n",
      "30000/30000 [==============================] - 0s - loss: 1.4512 - acc: 0.4224 - val_loss: 1.3415 - val_acc: 0.4563\n",
      "Epoch 39/100\n",
      "30000/30000 [==============================] - 0s - loss: 1.4496 - acc: 0.4217 - val_loss: 1.3419 - val_acc: 0.4558\n",
      "Epoch 40/100\n",
      "30000/30000 [==============================] - 0s - loss: 1.4498 - acc: 0.4202 - val_loss: 1.3402 - val_acc: 0.4566\n",
      "Epoch 41/100\n",
      "30000/30000 [==============================] - 0s - loss: 1.4486 - acc: 0.4224 - val_loss: 1.3406 - val_acc: 0.4539\n",
      "Epoch 42/100\n",
      "30000/30000 [==============================] - 0s - loss: 1.4465 - acc: 0.4240 - val_loss: 1.3387 - val_acc: 0.4530\n",
      "Epoch 43/100\n",
      "30000/30000 [==============================] - 0s - loss: 1.4469 - acc: 0.4250 - val_loss: 1.3399 - val_acc: 0.4581\n",
      "Epoch 44/100\n",
      "30000/30000 [==============================] - 0s - loss: 1.4489 - acc: 0.4208 - val_loss: 1.3395 - val_acc: 0.4602\n",
      "Epoch 45/100\n",
      "30000/30000 [==============================] - 0s - loss: 1.4440 - acc: 0.4271 - val_loss: 1.3376 - val_acc: 0.4586\n",
      "Epoch 46/100\n",
      "30000/30000 [==============================] - 0s - loss: 1.4446 - acc: 0.4233 - val_loss: 1.3384 - val_acc: 0.4557\n",
      "Epoch 47/100\n",
      "30000/30000 [==============================] - 0s - loss: 1.4418 - acc: 0.4254 - val_loss: 1.3381 - val_acc: 0.4589\n",
      "Epoch 48/100\n",
      "30000/30000 [==============================] - 0s - loss: 1.4446 - acc: 0.4218 - val_loss: 1.3381 - val_acc: 0.4601\n",
      "Epoch 49/100\n",
      "30000/30000 [==============================] - 0s - loss: 1.4432 - acc: 0.4226 - val_loss: 1.3373 - val_acc: 0.4593\n",
      "Epoch 50/100\n",
      "30000/30000 [==============================] - 0s - loss: 1.4445 - acc: 0.4279 - val_loss: 1.3364 - val_acc: 0.4567\n",
      "Epoch 51/100\n",
      "30000/30000 [==============================] - 0s - loss: 1.4417 - acc: 0.4241 - val_loss: 1.3365 - val_acc: 0.4582\n",
      "Epoch 52/100\n",
      "30000/30000 [==============================] - 0s - loss: 1.4455 - acc: 0.4237 - val_loss: 1.3377 - val_acc: 0.4620\n",
      "Epoch 53/100\n",
      "30000/30000 [==============================] - 0s - loss: 1.4427 - acc: 0.4249 - val_loss: 1.3356 - val_acc: 0.4588\n",
      "Epoch 54/100\n",
      "30000/30000 [==============================] - 0s - loss: 1.4402 - acc: 0.4264 - val_loss: 1.3361 - val_acc: 0.4587\n",
      "Epoch 55/100\n",
      "30000/30000 [==============================] - 0s - loss: 1.4375 - acc: 0.4261 - val_loss: 1.3356 - val_acc: 0.4601\n",
      "Epoch 56/100\n",
      "30000/30000 [==============================] - 0s - loss: 1.4385 - acc: 0.4252 - val_loss: 1.3347 - val_acc: 0.4611\n",
      "Epoch 57/100\n",
      "30000/30000 [==============================] - 0s - loss: 1.4395 - acc: 0.4271 - val_loss: 1.3346 - val_acc: 0.4594\n",
      "Epoch 58/100\n",
      "30000/30000 [==============================] - 1s - loss: 1.4426 - acc: 0.4235 - val_loss: 1.3356 - val_acc: 0.4630\n",
      "Epoch 59/100\n",
      "30000/30000 [==============================] - 0s - loss: 1.4392 - acc: 0.4253 - val_loss: 1.3349 - val_acc: 0.4576\n",
      "Epoch 60/100\n",
      "30000/30000 [==============================] - 0s - loss: 1.4417 - acc: 0.4273 - val_loss: 1.3349 - val_acc: 0.4600\n",
      "Epoch 61/100\n",
      "30000/30000 [==============================] - 0s - loss: 1.4389 - acc: 0.4245 - val_loss: 1.3342 - val_acc: 0.4616\n",
      "Epoch 62/100\n",
      "30000/30000 [==============================] - 0s - loss: 1.4374 - acc: 0.4267 - val_loss: 1.3341 - val_acc: 0.4569\n",
      "Epoch 63/100\n",
      "30000/30000 [==============================] - 0s - loss: 1.4375 - acc: 0.4269 - val_loss: 1.3353 - val_acc: 0.4595\n",
      "Epoch 64/100\n",
      "30000/30000 [==============================] - 0s - loss: 1.4379 - acc: 0.4245 - val_loss: 1.3345 - val_acc: 0.4618\n",
      "Epoch 65/100\n",
      "30000/30000 [==============================] - 0s - loss: 1.4388 - acc: 0.4254 - val_loss: 1.3339 - val_acc: 0.4608\n",
      "Epoch 66/100\n",
      "30000/30000 [==============================] - 0s - loss: 1.4396 - acc: 0.4263 - val_loss: 1.3356 - val_acc: 0.4559\n",
      "Epoch 67/100\n",
      "30000/30000 [==============================] - 0s - loss: 1.4364 - acc: 0.4265 - val_loss: 1.3330 - val_acc: 0.4602\n",
      "Epoch 68/100\n",
      "30000/30000 [==============================] - 0s - loss: 1.4414 - acc: 0.4249 - val_loss: 1.3335 - val_acc: 0.4584\n",
      "Epoch 69/100\n",
      "30000/30000 [==============================] - 0s - loss: 1.4390 - acc: 0.4272 - val_loss: 1.3344 - val_acc: 0.4630\n",
      "Epoch 70/100\n",
      "30000/30000 [==============================] - 0s - loss: 1.4365 - acc: 0.4260 - val_loss: 1.3330 - val_acc: 0.4612\n",
      "Epoch 71/100\n",
      "30000/30000 [==============================] - 0s - loss: 1.4344 - acc: 0.4280 - val_loss: 1.3331 - val_acc: 0.4578\n",
      "Epoch 72/100\n",
      "30000/30000 [==============================] - 0s - loss: 1.4359 - acc: 0.4291 - val_loss: 1.3321 - val_acc: 0.4605\n",
      "Epoch 73/100\n",
      "30000/30000 [==============================] - 0s - loss: 1.4404 - acc: 0.4259 - val_loss: 1.3338 - val_acc: 0.4587\n",
      "Epoch 74/100\n",
      "30000/30000 [==============================] - 0s - loss: 1.4368 - acc: 0.4269 - val_loss: 1.3322 - val_acc: 0.4614\n",
      "Epoch 75/100\n",
      "30000/30000 [==============================] - 0s - loss: 1.4387 - acc: 0.4234 - val_loss: 1.3329 - val_acc: 0.4604\n",
      "Epoch 76/100\n",
      "30000/30000 [==============================] - 0s - loss: 1.4353 - acc: 0.4265 - val_loss: 1.3334 - val_acc: 0.4634\n",
      "Epoch 77/100\n",
      "30000/30000 [==============================] - 0s - loss: 1.4389 - acc: 0.4261 - val_loss: 1.3322 - val_acc: 0.4614\n",
      "Epoch 78/100\n",
      "30000/30000 [==============================] - 0s - loss: 1.4367 - acc: 0.4265 - val_loss: 1.3323 - val_acc: 0.4613\n",
      "Epoch 79/100\n",
      "30000/30000 [==============================] - 0s - loss: 1.4361 - acc: 0.4265 - val_loss: 1.3311 - val_acc: 0.4602\n",
      "Epoch 80/100\n",
      "30000/30000 [==============================] - 0s - loss: 1.4392 - acc: 0.4273 - val_loss: 1.3320 - val_acc: 0.4638\n",
      "Epoch 81/100\n",
      "30000/30000 [==============================] - 0s - loss: 1.4360 - acc: 0.4283 - val_loss: 1.3311 - val_acc: 0.4620\n",
      "Epoch 82/100\n",
      "30000/30000 [==============================] - 0s - loss: 1.4387 - acc: 0.4261 - val_loss: 1.3318 - val_acc: 0.4605\n",
      "Epoch 83/100\n",
      "30000/30000 [==============================] - 0s - loss: 1.4355 - acc: 0.4279 - val_loss: 1.3307 - val_acc: 0.4615\n",
      "Epoch 84/100\n",
      "30000/30000 [==============================] - 0s - loss: 1.4365 - acc: 0.4282 - val_loss: 1.3318 - val_acc: 0.4625\n",
      "Epoch 85/100\n",
      "30000/30000 [==============================] - 0s - loss: 1.4362 - acc: 0.4272 - val_loss: 1.3307 - val_acc: 0.4627\n",
      "Epoch 86/100\n",
      "30000/30000 [==============================] - 0s - loss: 1.4397 - acc: 0.4261 - val_loss: 1.3314 - val_acc: 0.4608\n",
      "Epoch 87/100\n",
      "30000/30000 [==============================] - 0s - loss: 1.4356 - acc: 0.4266 - val_loss: 1.3307 - val_acc: 0.4603\n",
      "Epoch 88/100\n",
      "30000/30000 [==============================] - 0s - loss: 1.4346 - acc: 0.4243 - val_loss: 1.3318 - val_acc: 0.4630\n",
      "Epoch 89/100\n",
      "30000/30000 [==============================] - 0s - loss: 1.4372 - acc: 0.4246 - val_loss: 1.3301 - val_acc: 0.4613\n",
      "Epoch 90/100\n",
      "30000/30000 [==============================] - 0s - loss: 1.4366 - acc: 0.4270 - val_loss: 1.3295 - val_acc: 0.4611\n",
      "Epoch 91/100\n",
      "30000/30000 [==============================] - 0s - loss: 1.4340 - acc: 0.4283 - val_loss: 1.3302 - val_acc: 0.4618\n",
      "Epoch 92/100\n",
      "30000/30000 [==============================] - 0s - loss: 1.4353 - acc: 0.4260 - val_loss: 1.3303 - val_acc: 0.4635\n",
      "Epoch 93/100\n",
      "30000/30000 [==============================] - 0s - loss: 1.4358 - acc: 0.4257 - val_loss: 1.3303 - val_acc: 0.4615\n",
      "Epoch 94/100\n",
      "30000/30000 [==============================] - 0s - loss: 1.4345 - acc: 0.4299 - val_loss: 1.3300 - val_acc: 0.4611\n",
      "Epoch 95/100\n",
      "30000/30000 [==============================] - 0s - loss: 1.4349 - acc: 0.4264 - val_loss: 1.3303 - val_acc: 0.4621\n",
      "Epoch 96/100\n",
      "30000/30000 [==============================] - 0s - loss: 1.4355 - acc: 0.4275 - val_loss: 1.3300 - val_acc: 0.4625\n",
      "Epoch 97/100\n",
      "30000/30000 [==============================] - 0s - loss: 1.4367 - acc: 0.4262 - val_loss: 1.3293 - val_acc: 0.4614\n",
      "Epoch 98/100\n",
      "30000/30000 [==============================] - 0s - loss: 1.4335 - acc: 0.4265 - val_loss: 1.3297 - val_acc: 0.4612\n",
      "Epoch 99/100\n",
      "30000/30000 [==============================] - 0s - loss: 1.4353 - acc: 0.4286 - val_loss: 1.3302 - val_acc: 0.4612\n",
      "Epoch 100/100\n",
      "30000/30000 [==============================] - 0s - loss: 1.4330 - acc: 0.4271 - val_loss: 1.3303 - val_acc: 0.4645\n"
     ]
    }
   ],
   "source": [
    "hist = model.fit(X_train, Y_train,\n",
    "                nb_epoch=100,\n",
    "                shuffle=True,\n",
    "                batch_size=256,\n",
    "                validation_data=(X_crossval, Y_crossval))"
   ]
  },
  {
   "cell_type": "code",
   "execution_count": 12,
   "metadata": {
    "collapsed": false
   },
   "outputs": [
    {
     "data": {
      "image/png": "[encoded data removed]",
      "text/plain": [
       "<matplotlib.figure.Figure at 0x7f008d05f510>"
      ]
     },
     "metadata": {},
     "output_type": "display_data"
    }
   ],
   "source": [
    "plt.plot(hist.history['val_loss'], color ='b')\n",
    "plt.plot(hist.history['loss'], color='r')\n",
    "plt.plot(hist.history['val_acc'], color ='black')\n",
    "plt.plot(hist.history['acc'], color ='g')\n",
    "plt.show()"
   ]
  }
 ],
 "metadata": {
  "kernelspec": {
   "display_name": "Python 2",
   "language": "python",
   "name": "python2"
  },
  "language_info": {
   "codemirror_mode": {
    "name": "ipython",
    "version": 2
   },
   "file_extension": ".py",
   "mimetype": "text/x-python",
   "name": "python",
   "nbconvert_exporter": "python",
   "pygments_lexer": "ipython2",
   "version": "2.7.12"
  }
 },
 "nbformat": 4,
 "nbformat_minor": 0
}
