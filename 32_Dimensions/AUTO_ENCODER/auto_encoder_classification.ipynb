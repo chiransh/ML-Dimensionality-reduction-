{
 "cells": [
  {
   "cell_type": "markdown",
   "metadata": {},
   "source": [
    "### Digit Classification of MNIST dataset after dimensionality reduction from 784 to 32 using Auto-Encoders"
   ]
  },
  {
   "cell_type": "markdown",
   "metadata": {},
   "source": [
    "##### Validation Accuracy ~ 84%"
   ]
  },
  {
   "cell_type": "code",
   "execution_count": 1,
   "metadata": {
    "collapsed": false
   },
   "outputs": [
    {
     "name": "stderr",
     "output_type": "stream",
     "text": [
      "Using Theano backend.\n"
     ]
    }
   ],
   "source": [
    "import pandas as pd\n",
    "import numpy as np\n",
    "import matplotlib.pyplot as plt\n",
    "%matplotlib inline\n",
    "import theano\n",
    "from keras.models import Sequential,Model,load_model\n",
    "from keras.layers import Dense,Activation,Dropout\n",
    "from keras.utils import np_utils"
   ]
  },
  {
   "cell_type": "code",
   "execution_count": 2,
   "metadata": {
    "collapsed": false
   },
   "outputs": [
    {
     "name": "stdout",
     "output_type": "stream",
     "text": [
      "(42000, 784) (42000,)\n",
      "(42000, 1, 28, 28)\n"
     ]
    }
   ],
   "source": [
    "x = pd.read_csv('./train.csv')\n",
    "X = np.array(x)\n",
    "x = X[:,1:]\n",
    "y = X[:,0]\n",
    "print x.shape,y.shape\n",
    "X = x.reshape((X.shape[0], 1, 28, 28))\n",
    "print X.shape"
   ]
  },
  {
   "cell_type": "code",
   "execution_count": 3,
   "metadata": {
    "collapsed": false
   },
   "outputs": [
    {
     "name": "stderr",
     "output_type": "stream",
     "text": [
      "/usr/local/lib/python2.7/dist-packages/keras/models.py:136: UserWarning: No training configuration found in save file: the model was *not* compiled. Compile it manually.\n",
      "  warnings.warn('No training configuration found in save file: '\n"
     ]
    },
    {
     "name": "stdout",
     "output_type": "stream",
     "text": [
      "(42000, 32)\n"
     ]
    }
   ],
   "source": [
    "encoder = load_model('./enc_32d.h5')\n",
    "X_enc = encoder.predict(X)\n",
    "print X_enc.shape"
   ]
  },
  {
   "cell_type": "code",
   "execution_count": 4,
   "metadata": {
    "collapsed": true
   },
   "outputs": [],
   "source": [
    "X_enc = (X_enc - X_enc.mean()/X_enc.std())"
   ]
  },
  {
   "cell_type": "code",
   "execution_count": 5,
   "metadata": {
    "collapsed": false
   },
   "outputs": [
    {
     "name": "stdout",
     "output_type": "stream",
     "text": [
      "(30000, 32) (12000, 32) (30000, 10) (12000, 10)\n"
     ]
    }
   ],
   "source": [
    "x_train = X_enc[:30000,:]\n",
    "x_crossval = X_enc[30000:,:]\n",
    "y = np_utils.to_categorical(y)\n",
    "y_train = y[:30000]\n",
    "y_crossval = y[30000:]\n",
    "print x_train.shape,x_crossval.shape,y_train.shape,y_crossval.shape"
   ]
  },
  {
   "cell_type": "code",
   "execution_count": 6,
   "metadata": {
    "collapsed": false
   },
   "outputs": [
    {
     "name": "stdout",
     "output_type": "stream",
     "text": [
      "____________________________________________________________________________________________________\n",
      "Layer (type)                     Output Shape          Param #     Connected to                     \n",
      "====================================================================================================\n",
      "dense_1 (Dense)                  (None, 16)            528         dense_input_1[0][0]              \n",
      "____________________________________________________________________________________________________\n",
      "activation_1 (Activation)        (None, 16)            0           dense_1[0][0]                    \n",
      "____________________________________________________________________________________________________\n",
      "dropout_1 (Dropout)              (None, 16)            0           activation_1[0][0]               \n",
      "____________________________________________________________________________________________________\n",
      "dense_2 (Dense)                  (None, 10)            170         dropout_1[0][0]                  \n",
      "____________________________________________________________________________________________________\n",
      "activation_2 (Activation)        (None, 10)            0           dense_2[0][0]                    \n",
      "====================================================================================================\n",
      "Total params: 698\n",
      "____________________________________________________________________________________________________\n"
     ]
    }
   ],
   "source": [
    "model = Sequential()\n",
    "\n",
    "model.add(Dense(16, input_dim=32))\n",
    "model.add(Activation('relu'))\n",
    "model.add(Dropout(0.35))\n",
    "model.add(Dense(10))\n",
    "model.add(Activation('softmax'))\n",
    "\n",
    "model.summary()\n",
    "\n",
    "model.compile(loss='categorical_crossentropy', optimizer='adam', metrics=['accuracy'])"
   ]
  },
  {
   "cell_type": "code",
   "execution_count": 7,
   "metadata": {
    "collapsed": false
   },
   "outputs": [
    {
     "name": "stdout",
     "output_type": "stream",
     "text": [
      "Train on 30000 samples, validate on 12000 samples\n",
      "Epoch 1/100\n",
      "30000/30000 [==============================] - 0s - loss: 13.6989 - acc: 0.1448 - val_loss: 12.4699 - val_acc: 0.2165\n",
      "Epoch 2/100\n",
      "30000/30000 [==============================] - 0s - loss: 12.4212 - acc: 0.2200 - val_loss: 11.3825 - val_acc: 0.2890\n",
      "Epoch 3/100\n",
      "30000/30000 [==============================] - 0s - loss: 11.2874 - acc: 0.2833 - val_loss: 9.2895 - val_acc: 0.4066\n",
      "Epoch 4/100\n",
      "30000/30000 [==============================] - 0s - loss: 9.1827 - acc: 0.3434 - val_loss: 4.9138 - val_acc: 0.3538\n",
      "Epoch 5/100\n",
      "30000/30000 [==============================] - 0s - loss: 2.5094 - acc: 0.1851 - val_loss: 2.2575 - val_acc: 0.2097\n",
      "Epoch 6/100\n",
      "30000/30000 [==============================] - 0s - loss: 2.2445 - acc: 0.1745 - val_loss: 2.1650 - val_acc: 0.2151\n",
      "Epoch 7/100\n",
      "30000/30000 [==============================] - 0s - loss: 2.2106 - acc: 0.1823 - val_loss: 2.1262 - val_acc: 0.2327\n",
      "Epoch 8/100\n",
      "30000/30000 [==============================] - 0s - loss: 2.1694 - acc: 0.1962 - val_loss: 2.0761 - val_acc: 0.2429\n",
      "Epoch 9/100\n",
      "30000/30000 [==============================] - 0s - loss: 2.1404 - acc: 0.2086 - val_loss: 2.0260 - val_acc: 0.2569\n",
      "Epoch 10/100\n",
      "30000/30000 [==============================] - 0s - loss: 2.1029 - acc: 0.2160 - val_loss: 1.9722 - val_acc: 0.2819\n",
      "Epoch 11/100\n",
      "30000/30000 [==============================] - 0s - loss: 2.0680 - acc: 0.2247 - val_loss: 1.9462 - val_acc: 0.2757\n",
      "Epoch 12/100\n",
      "30000/30000 [==============================] - 0s - loss: 2.0505 - acc: 0.2274 - val_loss: 1.9120 - val_acc: 0.2871\n",
      "Epoch 13/100\n",
      "30000/30000 [==============================] - 0s - loss: 2.0223 - acc: 0.2402 - val_loss: 1.8709 - val_acc: 0.3191\n",
      "Epoch 14/100\n",
      "30000/30000 [==============================] - 0s - loss: 1.9951 - acc: 0.2537 - val_loss: 1.8406 - val_acc: 0.3339\n",
      "Epoch 15/100\n",
      "30000/30000 [==============================] - 0s - loss: 1.9830 - acc: 0.2533 - val_loss: 1.8320 - val_acc: 0.3240\n",
      "Epoch 16/100\n",
      "30000/30000 [==============================] - 0s - loss: 1.9795 - acc: 0.2614 - val_loss: 1.7972 - val_acc: 0.3430\n",
      "Epoch 17/100\n",
      "30000/30000 [==============================] - 0s - loss: 1.9541 - acc: 0.2643 - val_loss: 1.7818 - val_acc: 0.3492\n",
      "Epoch 18/100\n",
      "30000/30000 [==============================] - 0s - loss: 1.9335 - acc: 0.2781 - val_loss: 1.7444 - val_acc: 0.3631\n",
      "Epoch 19/100\n",
      "30000/30000 [==============================] - 0s - loss: 1.9017 - acc: 0.2828 - val_loss: 1.7116 - val_acc: 0.3871\n",
      "Epoch 20/100\n",
      "30000/30000 [==============================] - 0s - loss: 1.8884 - acc: 0.2917 - val_loss: 1.6910 - val_acc: 0.3677\n",
      "Epoch 21/100\n",
      "30000/30000 [==============================] - 0s - loss: 1.8744 - acc: 0.3039 - val_loss: 1.6483 - val_acc: 0.4046\n",
      "Epoch 22/100\n",
      "30000/30000 [==============================] - 0s - loss: 1.8468 - acc: 0.3176 - val_loss: 1.6104 - val_acc: 0.4287\n",
      "Epoch 23/100\n",
      "30000/30000 [==============================] - 0s - loss: 1.8043 - acc: 0.3395 - val_loss: 1.5639 - val_acc: 0.4469\n",
      "Epoch 24/100\n",
      "30000/30000 [==============================] - 0s - loss: 1.7692 - acc: 0.3582 - val_loss: 1.5485 - val_acc: 0.4489\n",
      "Epoch 25/100\n",
      "30000/30000 [==============================] - 0s - loss: 1.7378 - acc: 0.3639 - val_loss: 1.4836 - val_acc: 0.4838\n",
      "Epoch 26/100\n",
      "30000/30000 [==============================] - 0s - loss: 1.7202 - acc: 0.3761 - val_loss: 1.4318 - val_acc: 0.5107\n",
      "Epoch 27/100\n",
      "30000/30000 [==============================] - 0s - loss: 1.6920 - acc: 0.3874 - val_loss: 1.4166 - val_acc: 0.5422\n",
      "Epoch 28/100\n",
      "30000/30000 [==============================] - 0s - loss: 1.6764 - acc: 0.3939 - val_loss: 1.3745 - val_acc: 0.5196\n",
      "Epoch 29/100\n",
      "30000/30000 [==============================] - 0s - loss: 1.6419 - acc: 0.3979 - val_loss: 1.3386 - val_acc: 0.5295\n",
      "Epoch 30/100\n",
      "30000/30000 [==============================] - 0s - loss: 1.6168 - acc: 0.4045 - val_loss: 1.3153 - val_acc: 0.5486\n",
      "Epoch 31/100\n",
      "30000/30000 [==============================] - 0s - loss: 1.5986 - acc: 0.4180 - val_loss: 1.2691 - val_acc: 0.5639\n",
      "Epoch 32/100\n",
      "30000/30000 [==============================] - 0s - loss: 1.5783 - acc: 0.4234 - val_loss: 1.2580 - val_acc: 0.5707\n",
      "Epoch 33/100\n",
      "30000/30000 [==============================] - 0s - loss: 1.5497 - acc: 0.4338 - val_loss: 1.2369 - val_acc: 0.5933\n",
      "Epoch 34/100\n",
      "30000/30000 [==============================] - 0s - loss: 1.5420 - acc: 0.4359 - val_loss: 1.2231 - val_acc: 0.5856\n",
      "Epoch 35/100\n",
      "30000/30000 [==============================] - 0s - loss: 1.5163 - acc: 0.4437 - val_loss: 1.2037 - val_acc: 0.6018\n",
      "Epoch 36/100\n",
      "30000/30000 [==============================] - 0s - loss: 1.5053 - acc: 0.4470 - val_loss: 1.1642 - val_acc: 0.6062\n",
      "Epoch 37/100\n",
      "30000/30000 [==============================] - 0s - loss: 1.4985 - acc: 0.4494 - val_loss: 1.1506 - val_acc: 0.6131\n",
      "Epoch 38/100\n",
      "30000/30000 [==============================] - 0s - loss: 1.4862 - acc: 0.4578 - val_loss: 1.1140 - val_acc: 0.6308\n",
      "Epoch 39/100\n",
      "30000/30000 [==============================] - 0s - loss: 1.4712 - acc: 0.4598 - val_loss: 1.1236 - val_acc: 0.6262\n",
      "Epoch 40/100\n",
      "30000/30000 [==============================] - 0s - loss: 1.4515 - acc: 0.4649 - val_loss: 1.0786 - val_acc: 0.6415\n",
      "Epoch 41/100\n",
      "30000/30000 [==============================] - 0s - loss: 1.4530 - acc: 0.4691 - val_loss: 1.0559 - val_acc: 0.6643\n",
      "Epoch 42/100\n",
      "30000/30000 [==============================] - 0s - loss: 1.4188 - acc: 0.4815 - val_loss: 1.0322 - val_acc: 0.6720\n",
      "Epoch 43/100\n",
      "30000/30000 [==============================] - 0s - loss: 1.4078 - acc: 0.4870 - val_loss: 1.0036 - val_acc: 0.6693\n",
      "Epoch 44/100\n",
      "30000/30000 [==============================] - 0s - loss: 1.4061 - acc: 0.4852 - val_loss: 1.0177 - val_acc: 0.6652\n",
      "Epoch 45/100\n",
      "30000/30000 [==============================] - 0s - loss: 1.3901 - acc: 0.4888 - val_loss: 1.0101 - val_acc: 0.6880\n",
      "Epoch 46/100\n",
      "30000/30000 [==============================] - 0s - loss: 1.3832 - acc: 0.4937 - val_loss: 1.0015 - val_acc: 0.6834\n",
      "Epoch 47/100\n",
      "30000/30000 [==============================] - 0s - loss: 1.3770 - acc: 0.4936 - val_loss: 0.9714 - val_acc: 0.6876\n",
      "Epoch 48/100\n",
      "30000/30000 [==============================] - 0s - loss: 1.3744 - acc: 0.4961 - val_loss: 0.9706 - val_acc: 0.6656\n",
      "Epoch 49/100\n",
      "30000/30000 [==============================] - 0s - loss: 1.3625 - acc: 0.4959 - val_loss: 0.9734 - val_acc: 0.6974\n",
      "Epoch 50/100\n",
      "30000/30000 [==============================] - 0s - loss: 1.3649 - acc: 0.5030 - val_loss: 0.9513 - val_acc: 0.7074\n",
      "Epoch 51/100\n",
      "30000/30000 [==============================] - 0s - loss: 1.3589 - acc: 0.5002 - val_loss: 0.9582 - val_acc: 0.6956\n",
      "Epoch 52/100\n",
      "30000/30000 [==============================] - 0s - loss: 1.3575 - acc: 0.4994 - val_loss: 0.9657 - val_acc: 0.6934\n",
      "Epoch 53/100\n",
      "30000/30000 [==============================] - 0s - loss: 1.3515 - acc: 0.4995 - val_loss: 0.9380 - val_acc: 0.6990\n",
      "Epoch 54/100\n",
      "30000/30000 [==============================] - 0s - loss: 1.3354 - acc: 0.5047 - val_loss: 0.9414 - val_acc: 0.6859\n",
      "Epoch 55/100\n",
      "30000/30000 [==============================] - 0s - loss: 1.3335 - acc: 0.5062 - val_loss: 0.9273 - val_acc: 0.7029\n",
      "Epoch 56/100\n",
      "30000/30000 [==============================] - 0s - loss: 1.3228 - acc: 0.5084 - val_loss: 0.9400 - val_acc: 0.6780\n",
      "Epoch 57/100\n",
      "30000/30000 [==============================] - 0s - loss: 1.3113 - acc: 0.5081 - val_loss: 0.9328 - val_acc: 0.6920\n",
      "Epoch 58/100\n",
      "30000/30000 [==============================] - 0s - loss: 1.3195 - acc: 0.5055 - val_loss: 0.9254 - val_acc: 0.6928\n",
      "Epoch 59/100\n",
      "30000/30000 [==============================] - 0s - loss: 1.3133 - acc: 0.5110 - val_loss: 0.9263 - val_acc: 0.6990\n",
      "Epoch 60/100\n",
      "30000/30000 [==============================] - 0s - loss: 1.2989 - acc: 0.5148 - val_loss: 0.9049 - val_acc: 0.6872\n",
      "Epoch 61/100\n",
      "30000/30000 [==============================] - 0s - loss: 1.2999 - acc: 0.5126 - val_loss: 0.9001 - val_acc: 0.7051\n",
      "Epoch 62/100\n",
      "30000/30000 [==============================] - 0s - loss: 1.2896 - acc: 0.5150 - val_loss: 0.8984 - val_acc: 0.7066\n",
      "Epoch 63/100\n",
      "30000/30000 [==============================] - 0s - loss: 1.2819 - acc: 0.5196 - val_loss: 0.8812 - val_acc: 0.7097\n",
      "Epoch 64/100\n",
      "30000/30000 [==============================] - 0s - loss: 1.2809 - acc: 0.5212 - val_loss: 0.8946 - val_acc: 0.7081\n",
      "Epoch 65/100\n",
      "30000/30000 [==============================] - 0s - loss: 1.2721 - acc: 0.5204 - val_loss: 0.8895 - val_acc: 0.6874\n",
      "Epoch 66/100\n",
      "30000/30000 [==============================] - 0s - loss: 1.2648 - acc: 0.5179 - val_loss: 0.8741 - val_acc: 0.6980\n",
      "Epoch 67/100\n",
      "30000/30000 [==============================] - 0s - loss: 1.2495 - acc: 0.5288 - val_loss: 0.8688 - val_acc: 0.7160\n",
      "Epoch 68/100\n",
      "30000/30000 [==============================] - 0s - loss: 1.2649 - acc: 0.5158 - val_loss: 0.8695 - val_acc: 0.7014\n",
      "Epoch 69/100\n",
      "30000/30000 [==============================] - 0s - loss: 1.2548 - acc: 0.5212 - val_loss: 0.8695 - val_acc: 0.7124\n",
      "Epoch 70/100\n",
      "30000/30000 [==============================] - 0s - loss: 1.2510 - acc: 0.5226 - val_loss: 0.8620 - val_acc: 0.6872\n",
      "Epoch 71/100\n",
      "30000/30000 [==============================] - 0s - loss: 1.2396 - acc: 0.5289 - val_loss: 0.8557 - val_acc: 0.7067\n",
      "Epoch 72/100\n",
      "30000/30000 [==============================] - 0s - loss: 1.2351 - acc: 0.5344 - val_loss: 0.8705 - val_acc: 0.7081\n",
      "Epoch 73/100\n",
      "30000/30000 [==============================] - 0s - loss: 1.2408 - acc: 0.5280 - val_loss: 0.8532 - val_acc: 0.7051\n",
      "Epoch 74/100\n",
      "30000/30000 [==============================] - 0s - loss: 1.2259 - acc: 0.5330 - val_loss: 0.8511 - val_acc: 0.7012\n",
      "Epoch 75/100\n",
      "30000/30000 [==============================] - 0s - loss: 1.2348 - acc: 0.5281 - val_loss: 0.8400 - val_acc: 0.6936\n",
      "Epoch 76/100\n",
      "30000/30000 [==============================] - 0s - loss: 1.2250 - acc: 0.5352 - val_loss: 0.8407 - val_acc: 0.7150\n",
      "Epoch 77/100\n",
      "30000/30000 [==============================] - 0s - loss: 1.2300 - acc: 0.5371 - val_loss: 0.8219 - val_acc: 0.7333\n",
      "Epoch 78/100\n",
      "30000/30000 [==============================] - 0s - loss: 1.2163 - acc: 0.5401 - val_loss: 0.8339 - val_acc: 0.7251\n",
      "Epoch 79/100\n",
      "30000/30000 [==============================] - 0s - loss: 1.2208 - acc: 0.5367 - val_loss: 0.8286 - val_acc: 0.7306\n",
      "Epoch 80/100\n",
      "30000/30000 [==============================] - 0s - loss: 1.2058 - acc: 0.5511 - val_loss: 0.8245 - val_acc: 0.7282\n",
      "Epoch 81/100\n",
      "30000/30000 [==============================] - 0s - loss: 1.2091 - acc: 0.5500 - val_loss: 0.8068 - val_acc: 0.7524\n",
      "Epoch 82/100\n",
      "30000/30000 [==============================] - 0s - loss: 1.1983 - acc: 0.5563 - val_loss: 0.7886 - val_acc: 0.7489\n",
      "Epoch 83/100\n",
      "30000/30000 [==============================] - 0s - loss: 1.2029 - acc: 0.5566 - val_loss: 0.7875 - val_acc: 0.7342\n",
      "Epoch 84/100\n",
      "30000/30000 [==============================] - 0s - loss: 1.1954 - acc: 0.5577 - val_loss: 0.7937 - val_acc: 0.7598\n",
      "Epoch 85/100\n",
      "30000/30000 [==============================] - 0s - loss: 1.2019 - acc: 0.5592 - val_loss: 0.8060 - val_acc: 0.7583\n",
      "Epoch 86/100\n",
      "30000/30000 [==============================] - 0s - loss: 1.1756 - acc: 0.5767 - val_loss: 0.7465 - val_acc: 0.7839\n",
      "Epoch 87/100\n",
      "30000/30000 [==============================] - 0s - loss: 1.1661 - acc: 0.5844 - val_loss: 0.7407 - val_acc: 0.7977\n",
      "Epoch 88/100\n",
      "30000/30000 [==============================] - 0s - loss: 1.1550 - acc: 0.5872 - val_loss: 0.7256 - val_acc: 0.7965\n",
      "Epoch 89/100\n",
      "30000/30000 [==============================] - 0s - loss: 1.1535 - acc: 0.5922 - val_loss: 0.7472 - val_acc: 0.7945\n",
      "Epoch 90/100\n",
      "30000/30000 [==============================] - 0s - loss: 1.1526 - acc: 0.5927 - val_loss: 0.6904 - val_acc: 0.8131\n",
      "Epoch 91/100\n",
      "30000/30000 [==============================] - 0s - loss: 1.1352 - acc: 0.5999 - val_loss: 0.7057 - val_acc: 0.8237\n",
      "Epoch 92/100\n",
      "30000/30000 [==============================] - 0s - loss: 1.1336 - acc: 0.5996 - val_loss: 0.6986 - val_acc: 0.8173\n",
      "Epoch 93/100\n",
      "30000/30000 [==============================] - 0s - loss: 1.1303 - acc: 0.6051 - val_loss: 0.6750 - val_acc: 0.8254\n",
      "Epoch 94/100\n",
      "30000/30000 [==============================] - 0s - loss: 1.1411 - acc: 0.5962 - val_loss: 0.6906 - val_acc: 0.8190\n",
      "Epoch 95/100\n",
      "30000/30000 [==============================] - 0s - loss: 1.1231 - acc: 0.6022 - val_loss: 0.6902 - val_acc: 0.8290\n",
      "Epoch 96/100\n",
      "30000/30000 [==============================] - 0s - loss: 1.1321 - acc: 0.5981 - val_loss: 0.6617 - val_acc: 0.8273\n",
      "Epoch 97/100\n",
      "30000/30000 [==============================] - 0s - loss: 1.1198 - acc: 0.6048 - val_loss: 0.6614 - val_acc: 0.8285\n",
      "Epoch 98/100\n",
      "30000/30000 [==============================] - 0s - loss: 1.1115 - acc: 0.6059 - val_loss: 0.6664 - val_acc: 0.8178\n",
      "Epoch 99/100\n",
      "30000/30000 [==============================] - 0s - loss: 1.1058 - acc: 0.6141 - val_loss: 0.6682 - val_acc: 0.8276\n",
      "Epoch 100/100\n",
      "30000/30000 [==============================] - 0s - loss: 1.1164 - acc: 0.6081 - val_loss: 0.6519 - val_acc: 0.8373\n"
     ]
    }
   ],
   "source": [
    "hist = model.fit(x_train,y_train,\n",
    "                 nb_epoch = 100,\n",
    "                 shuffle = True,\n",
    "                 batch_size = 256,\n",
    "                 validation_data=(x_crossval, y_crossval))"
   ]
  },
  {
   "cell_type": "code",
   "execution_count": 8,
   "metadata": {
    "collapsed": false
   },
   "outputs": [
    {
     "data": {
      "image/png": "[encoded data removed]",
      "text/plain": [
       "<matplotlib.figure.Figure at 0x7ff3d7821a50>"
      ]
     },
     "metadata": {},
     "output_type": "display_data"
    }
   ],
   "source": [
    "plt.plot(hist.history['val_loss'], color ='b')\n",
    "plt.plot(hist.history['loss'], color='r')\n",
    "plt.plot(hist.history['val_acc'], color ='black')\n",
    "plt.plot(hist.history['acc'], color ='g')\n",
    "plt.show()"
   ]
  }
 ],
 "metadata": {
  "kernelspec": {
   "display_name": "Python 2",
   "language": "python",
   "name": "python2"
  },
  "language_info": {
   "codemirror_mode": {
    "name": "ipython",
    "version": 2
   },
   "file_extension": ".py",
   "mimetype": "text/x-python",
   "name": "python",
   "nbconvert_exporter": "python",
   "pygments_lexer": "ipython2",
   "version": "2.7.12"
  }
 },
 "nbformat": 4,
 "nbformat_minor": 0
}
