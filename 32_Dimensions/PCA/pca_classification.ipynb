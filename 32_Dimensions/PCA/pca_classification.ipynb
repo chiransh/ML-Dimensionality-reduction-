{
 "cells": [
  {
   "cell_type": "markdown",
   "metadata": {},
   "source": [
    "### Digit Classification of MNIST dataset after dimensionality reduction from 784 32 using PCA"
   ]
  },
  {
   "cell_type": "markdown",
   "metadata": {},
   "source": [
    "##### Validation Accuracy ~ 91%"
   ]
  },
  {
   "cell_type": "code",
   "execution_count": 1,
   "metadata": {
    "collapsed": false
   },
   "outputs": [
    {
     "name": "stderr",
     "output_type": "stream",
     "text": [
      "Using gpu device 0: GeForce 920M (CNMeM is disabled, cuDNN 5005)\n",
      "Using Theano backend.\n"
     ]
    }
   ],
   "source": [
    "import pandas as pd\n",
    "import numpy as np\n",
    "import matplotlib.pyplot as plt\n",
    "%matplotlib inline\n",
    "import theano\n",
    "from keras.models import Sequential,Model\n",
    "from keras.layers import Dense,Activation, Dropout\n",
    "from sklearn.decomposition import PCA\n",
    "from keras.utils import np_utils"
   ]
  },
  {
   "cell_type": "code",
   "execution_count": 2,
   "metadata": {
    "collapsed": false
   },
   "outputs": [
    {
     "name": "stdout",
     "output_type": "stream",
     "text": [
      "(42000, 784) (42000,)\n",
      "(42000, 784) (30000,) (12000,)\n"
     ]
    }
   ],
   "source": [
    "x = pd.read_csv('./train.csv')\n",
    "X = np.array(x)\n",
    "x = X[:,1:]\n",
    "y = X[:,0]\n",
    "print x.shape,y.shape\n",
    "\n",
    "y_train = y[:30000]\n",
    "y_crossval = y[30000:]\n",
    "print x.shape,y_train.shape,y_crossval.shape"
   ]
  },
  {
   "cell_type": "code",
   "execution_count": 3,
   "metadata": {
    "collapsed": true
   },
   "outputs": [],
   "source": [
    "#x_train = (x_train - x_train.mean())/x_train.std()\n",
    "x = (x - x.mean())/x.std()"
   ]
  },
  {
   "cell_type": "code",
   "execution_count": 4,
   "metadata": {
    "collapsed": false
   },
   "outputs": [
    {
     "name": "stdout",
     "output_type": "stream",
     "text": [
      "(30000, 32) (12000, 32) (30000, 10) (12000, 10)\n"
     ]
    }
   ],
   "source": [
    "pca = PCA(n_components=32)\n",
    "\n",
    "X = pca.fit_transform(x)\n",
    "#X_crossval = pca.fit_transform(x_crossval)\n",
    "X_train = X[:30000,:]\n",
    "X_crossval = X[30000:,:]\n",
    "Y_train = np_utils.to_categorical(y_train)\n",
    "Y_crossval = np_utils.to_categorical(y_crossval)\n",
    "print X_train.shape, X_crossval.shape, Y_train.shape, Y_crossval.shape"
   ]
  },
  {
   "cell_type": "code",
   "execution_count": 5,
   "metadata": {
    "collapsed": false
   },
   "outputs": [
    {
     "name": "stdout",
     "output_type": "stream",
     "text": [
      "____________________________________________________________________________________________________\n",
      "Layer (type)                     Output Shape          Param #     Connected to                     \n",
      "====================================================================================================\n",
      "dense_1 (Dense)                  (None, 16)            528         dense_input_1[0][0]              \n",
      "____________________________________________________________________________________________________\n",
      "activation_1 (Activation)        (None, 16)            0           dense_1[0][0]                    \n",
      "____________________________________________________________________________________________________\n",
      "dropout_1 (Dropout)              (None, 16)            0           activation_1[0][0]               \n",
      "____________________________________________________________________________________________________\n",
      "dense_2 (Dense)                  (None, 10)            170         dropout_1[0][0]                  \n",
      "____________________________________________________________________________________________________\n",
      "activation_2 (Activation)        (None, 10)            0           dense_2[0][0]                    \n",
      "====================================================================================================\n",
      "Total params: 698\n",
      "____________________________________________________________________________________________________\n"
     ]
    }
   ],
   "source": [
    "model = Sequential()\n",
    "\n",
    "model.add(Dense(16, input_dim=32))\n",
    "model.add(Activation('relu'))\n",
    "model.add(Dropout(0.35))\n",
    "model.add(Dense(10))\n",
    "model.add(Activation('softmax'))\n",
    "\n",
    "model.summary()\n",
    "\n",
    "model.compile(loss='categorical_crossentropy', optimizer='adam', metrics=['accuracy'])"
   ]
  },
  {
   "cell_type": "code",
   "execution_count": 6,
   "metadata": {
    "collapsed": false
   },
   "outputs": [
    {
     "name": "stdout",
     "output_type": "stream",
     "text": [
      "Train on 30000 samples, validate on 12000 samples\n",
      "Epoch 1/100\n",
      "30000/30000 [==============================] - 0s - loss: 3.2418 - acc: 0.2373 - val_loss: 1.5448 - val_acc: 0.5002\n",
      "Epoch 2/100\n",
      "30000/30000 [==============================] - 0s - loss: 1.7403 - acc: 0.4552 - val_loss: 0.9936 - val_acc: 0.7087\n",
      "Epoch 3/100\n",
      "30000/30000 [==============================] - 0s - loss: 1.2838 - acc: 0.5827 - val_loss: 0.7548 - val_acc: 0.7965\n",
      "Epoch 4/100\n",
      "30000/30000 [==============================] - 0s - loss: 1.0693 - acc: 0.6486 - val_loss: 0.6246 - val_acc: 0.8349\n",
      "Epoch 5/100\n",
      "30000/30000 [==============================] - 0s - loss: 0.9329 - acc: 0.6918 - val_loss: 0.5440 - val_acc: 0.8572\n",
      "Epoch 6/100\n",
      "30000/30000 [==============================] - 0s - loss: 0.8714 - acc: 0.7126 - val_loss: 0.4961 - val_acc: 0.8674\n",
      "Epoch 7/100\n",
      "30000/30000 [==============================] - 0s - loss: 0.8251 - acc: 0.7254 - val_loss: 0.4654 - val_acc: 0.8728\n",
      "Epoch 8/100\n",
      "30000/30000 [==============================] - 0s - loss: 0.7866 - acc: 0.7406 - val_loss: 0.4381 - val_acc: 0.8793\n",
      "Epoch 9/100\n",
      "30000/30000 [==============================] - 0s - loss: 0.7606 - acc: 0.7478 - val_loss: 0.4217 - val_acc: 0.8828\n",
      "Epoch 10/100\n",
      "30000/30000 [==============================] - 0s - loss: 0.7415 - acc: 0.7532 - val_loss: 0.4093 - val_acc: 0.8863\n",
      "Epoch 11/100\n",
      "30000/30000 [==============================] - 0s - loss: 0.7232 - acc: 0.7612 - val_loss: 0.3983 - val_acc: 0.8886\n",
      "Epoch 12/100\n",
      "30000/30000 [==============================] - 0s - loss: 0.7195 - acc: 0.7570 - val_loss: 0.3907 - val_acc: 0.8913\n",
      "Epoch 13/100\n",
      "30000/30000 [==============================] - 0s - loss: 0.7063 - acc: 0.7628 - val_loss: 0.3846 - val_acc: 0.8930\n",
      "Epoch 14/100\n",
      "30000/30000 [==============================] - 0s - loss: 0.6925 - acc: 0.7682 - val_loss: 0.3772 - val_acc: 0.8937\n",
      "Epoch 15/100\n",
      "30000/30000 [==============================] - 0s - loss: 0.6823 - acc: 0.7714 - val_loss: 0.3721 - val_acc: 0.8947\n",
      "Epoch 16/100\n",
      "30000/30000 [==============================] - 0s - loss: 0.6769 - acc: 0.7739 - val_loss: 0.3666 - val_acc: 0.8959\n",
      "Epoch 17/100\n",
      "30000/30000 [==============================] - 0s - loss: 0.6766 - acc: 0.7709 - val_loss: 0.3634 - val_acc: 0.8971\n",
      "Epoch 18/100\n",
      "30000/30000 [==============================] - 0s - loss: 0.6630 - acc: 0.7758 - val_loss: 0.3594 - val_acc: 0.8969\n",
      "Epoch 19/100\n",
      "30000/30000 [==============================] - 0s - loss: 0.6670 - acc: 0.7738 - val_loss: 0.3578 - val_acc: 0.8974\n",
      "Epoch 20/100\n",
      "30000/30000 [==============================] - 0s - loss: 0.6549 - acc: 0.7779 - val_loss: 0.3543 - val_acc: 0.8975\n",
      "Epoch 21/100\n",
      "30000/30000 [==============================] - 0s - loss: 0.6575 - acc: 0.7782 - val_loss: 0.3520 - val_acc: 0.8978\n",
      "Epoch 22/100\n",
      "30000/30000 [==============================] - 0s - loss: 0.6478 - acc: 0.7776 - val_loss: 0.3482 - val_acc: 0.8991\n",
      "Epoch 23/100\n",
      "30000/30000 [==============================] - 0s - loss: 0.6432 - acc: 0.7819 - val_loss: 0.3453 - val_acc: 0.9000\n",
      "Epoch 24/100\n",
      "30000/30000 [==============================] - 0s - loss: 0.6449 - acc: 0.7804 - val_loss: 0.3431 - val_acc: 0.9013\n",
      "Epoch 25/100\n",
      "30000/30000 [==============================] - 0s - loss: 0.6410 - acc: 0.7827 - val_loss: 0.3412 - val_acc: 0.9015\n",
      "Epoch 26/100\n",
      "30000/30000 [==============================] - 0s - loss: 0.6366 - acc: 0.7840 - val_loss: 0.3394 - val_acc: 0.9023\n",
      "Epoch 27/100\n",
      "30000/30000 [==============================] - 0s - loss: 0.6319 - acc: 0.7861 - val_loss: 0.3360 - val_acc: 0.9017\n",
      "Epoch 28/100\n",
      "30000/30000 [==============================] - 0s - loss: 0.6346 - acc: 0.7854 - val_loss: 0.3359 - val_acc: 0.9021\n",
      "Epoch 29/100\n",
      "30000/30000 [==============================] - 0s - loss: 0.6248 - acc: 0.7899 - val_loss: 0.3314 - val_acc: 0.9035\n",
      "Epoch 30/100\n",
      "30000/30000 [==============================] - 0s - loss: 0.6274 - acc: 0.7876 - val_loss: 0.3305 - val_acc: 0.9036\n",
      "Epoch 31/100\n",
      "30000/30000 [==============================] - 0s - loss: 0.6310 - acc: 0.7858 - val_loss: 0.3291 - val_acc: 0.9043\n",
      "Epoch 32/100\n",
      "30000/30000 [==============================] - 0s - loss: 0.6274 - acc: 0.7886 - val_loss: 0.3283 - val_acc: 0.9047\n",
      "Epoch 33/100\n",
      "30000/30000 [==============================] - 0s - loss: 0.6290 - acc: 0.7849 - val_loss: 0.3275 - val_acc: 0.9044\n",
      "Epoch 34/100\n",
      "30000/30000 [==============================] - 0s - loss: 0.6298 - acc: 0.7866 - val_loss: 0.3265 - val_acc: 0.9052\n",
      "Epoch 35/100\n",
      "30000/30000 [==============================] - 0s - loss: 0.6160 - acc: 0.7883 - val_loss: 0.3238 - val_acc: 0.9048\n",
      "Epoch 36/100\n",
      "30000/30000 [==============================] - 0s - loss: 0.6208 - acc: 0.7892 - val_loss: 0.3231 - val_acc: 0.9055\n",
      "Epoch 37/100\n",
      "30000/30000 [==============================] - 0s - loss: 0.6179 - acc: 0.7906 - val_loss: 0.3230 - val_acc: 0.9063\n",
      "Epoch 38/100\n",
      "30000/30000 [==============================] - 0s - loss: 0.6200 - acc: 0.7878 - val_loss: 0.3216 - val_acc: 0.9058\n",
      "Epoch 39/100\n",
      "30000/30000 [==============================] - 0s - loss: 0.6211 - acc: 0.7898 - val_loss: 0.3211 - val_acc: 0.9053\n",
      "Epoch 40/100\n",
      "30000/30000 [==============================] - 0s - loss: 0.6163 - acc: 0.7902 - val_loss: 0.3198 - val_acc: 0.9049\n",
      "Epoch 41/100\n",
      "30000/30000 [==============================] - 0s - loss: 0.6138 - acc: 0.7916 - val_loss: 0.3183 - val_acc: 0.9064\n",
      "Epoch 42/100\n",
      "30000/30000 [==============================] - 0s - loss: 0.6148 - acc: 0.7935 - val_loss: 0.3175 - val_acc: 0.9067\n",
      "Epoch 43/100\n",
      "30000/30000 [==============================] - 0s - loss: 0.6206 - acc: 0.7908 - val_loss: 0.3178 - val_acc: 0.9061\n",
      "Epoch 44/100\n",
      "30000/30000 [==============================] - 0s - loss: 0.6144 - acc: 0.7888 - val_loss: 0.3178 - val_acc: 0.9068\n",
      "Epoch 45/100\n",
      "30000/30000 [==============================] - 0s - loss: 0.6174 - acc: 0.7904 - val_loss: 0.3155 - val_acc: 0.9066\n",
      "Epoch 46/100\n",
      "30000/30000 [==============================] - 0s - loss: 0.6172 - acc: 0.7877 - val_loss: 0.3165 - val_acc: 0.9081\n",
      "Epoch 47/100\n",
      "30000/30000 [==============================] - 0s - loss: 0.6120 - acc: 0.7921 - val_loss: 0.3152 - val_acc: 0.9079\n",
      "Epoch 48/100\n",
      "30000/30000 [==============================] - 0s - loss: 0.6135 - acc: 0.7914 - val_loss: 0.3151 - val_acc: 0.9072\n",
      "Epoch 49/100\n",
      "30000/30000 [==============================] - 0s - loss: 0.6054 - acc: 0.7943 - val_loss: 0.3130 - val_acc: 0.9084\n",
      "Epoch 50/100\n",
      "30000/30000 [==============================] - 0s - loss: 0.6093 - acc: 0.7971 - val_loss: 0.3116 - val_acc: 0.9096\n",
      "Epoch 51/100\n",
      "30000/30000 [==============================] - 0s - loss: 0.6164 - acc: 0.7898 - val_loss: 0.3128 - val_acc: 0.9100\n",
      "Epoch 52/100\n",
      "30000/30000 [==============================] - 0s - loss: 0.6049 - acc: 0.7951 - val_loss: 0.3108 - val_acc: 0.9094\n",
      "Epoch 53/100\n",
      "30000/30000 [==============================] - 0s - loss: 0.6087 - acc: 0.7917 - val_loss: 0.3109 - val_acc: 0.9087\n",
      "Epoch 54/100\n",
      "30000/30000 [==============================] - 0s - loss: 0.6061 - acc: 0.7942 - val_loss: 0.3105 - val_acc: 0.9097\n",
      "Epoch 55/100\n",
      "30000/30000 [==============================] - 0s - loss: 0.6056 - acc: 0.7920 - val_loss: 0.3117 - val_acc: 0.9096\n",
      "Epoch 56/100\n",
      "30000/30000 [==============================] - 0s - loss: 0.6036 - acc: 0.7941 - val_loss: 0.3090 - val_acc: 0.9092\n",
      "Epoch 57/100\n",
      "30000/30000 [==============================] - 0s - loss: 0.6123 - acc: 0.7912 - val_loss: 0.3102 - val_acc: 0.9103\n",
      "Epoch 58/100\n",
      "30000/30000 [==============================] - 0s - loss: 0.6062 - acc: 0.7927 - val_loss: 0.3100 - val_acc: 0.9098\n",
      "Epoch 59/100\n",
      "30000/30000 [==============================] - 0s - loss: 0.6050 - acc: 0.7950 - val_loss: 0.3085 - val_acc: 0.9108\n",
      "Epoch 60/100\n",
      "30000/30000 [==============================] - 0s - loss: 0.6023 - acc: 0.7967 - val_loss: 0.3094 - val_acc: 0.9094\n",
      "Epoch 61/100\n",
      "30000/30000 [==============================] - 0s - loss: 0.6033 - acc: 0.7934 - val_loss: 0.3082 - val_acc: 0.9098\n",
      "Epoch 62/100\n",
      "30000/30000 [==============================] - 0s - loss: 0.5972 - acc: 0.7963 - val_loss: 0.3075 - val_acc: 0.9093\n",
      "Epoch 63/100\n",
      "30000/30000 [==============================] - 0s - loss: 0.5995 - acc: 0.7950 - val_loss: 0.3070 - val_acc: 0.9096\n",
      "Epoch 64/100\n",
      "30000/30000 [==============================] - 0s - loss: 0.5972 - acc: 0.7961 - val_loss: 0.3071 - val_acc: 0.9101\n",
      "Epoch 65/100\n",
      "30000/30000 [==============================] - 0s - loss: 0.6024 - acc: 0.7926 - val_loss: 0.3081 - val_acc: 0.9089\n",
      "Epoch 66/100\n",
      "30000/30000 [==============================] - 0s - loss: 0.6102 - acc: 0.7915 - val_loss: 0.3066 - val_acc: 0.9112\n",
      "Epoch 67/100\n",
      "30000/30000 [==============================] - 0s - loss: 0.6058 - acc: 0.7942 - val_loss: 0.3070 - val_acc: 0.9103\n",
      "Epoch 68/100\n",
      "30000/30000 [==============================] - 0s - loss: 0.5971 - acc: 0.7936 - val_loss: 0.3081 - val_acc: 0.9100\n",
      "Epoch 69/100\n",
      "30000/30000 [==============================] - 0s - loss: 0.5979 - acc: 0.7948 - val_loss: 0.3066 - val_acc: 0.9096\n",
      "Epoch 70/100\n",
      "30000/30000 [==============================] - 0s - loss: 0.6015 - acc: 0.7945 - val_loss: 0.3055 - val_acc: 0.9118\n",
      "Epoch 71/100\n",
      "30000/30000 [==============================] - 0s - loss: 0.5993 - acc: 0.7954 - val_loss: 0.3066 - val_acc: 0.9109\n",
      "Epoch 72/100\n",
      "30000/30000 [==============================] - 0s - loss: 0.6008 - acc: 0.7964 - val_loss: 0.3059 - val_acc: 0.9118\n",
      "Epoch 73/100\n",
      "30000/30000 [==============================] - 0s - loss: 0.6007 - acc: 0.7962 - val_loss: 0.3040 - val_acc: 0.9106\n",
      "Epoch 74/100\n",
      "30000/30000 [==============================] - 0s - loss: 0.5990 - acc: 0.7929 - val_loss: 0.3057 - val_acc: 0.9098\n",
      "Epoch 75/100\n",
      "30000/30000 [==============================] - 0s - loss: 0.5956 - acc: 0.7994 - val_loss: 0.3071 - val_acc: 0.9090\n",
      "Epoch 76/100\n",
      "30000/30000 [==============================] - 0s - loss: 0.5985 - acc: 0.7962 - val_loss: 0.3072 - val_acc: 0.9105\n",
      "Epoch 77/100\n",
      "30000/30000 [==============================] - 0s - loss: 0.5956 - acc: 0.7985 - val_loss: 0.3047 - val_acc: 0.9112\n",
      "Epoch 78/100\n",
      "30000/30000 [==============================] - 0s - loss: 0.5956 - acc: 0.7998 - val_loss: 0.3039 - val_acc: 0.9115\n",
      "Epoch 79/100\n",
      "30000/30000 [==============================] - 0s - loss: 0.5915 - acc: 0.8020 - val_loss: 0.3047 - val_acc: 0.9103\n",
      "Epoch 80/100\n",
      "30000/30000 [==============================] - 0s - loss: 0.5954 - acc: 0.7952 - val_loss: 0.3049 - val_acc: 0.9109\n",
      "Epoch 81/100\n",
      "30000/30000 [==============================] - 0s - loss: 0.5934 - acc: 0.7994 - val_loss: 0.3032 - val_acc: 0.9112\n",
      "Epoch 82/100\n",
      "30000/30000 [==============================] - 0s - loss: 0.5946 - acc: 0.7957 - val_loss: 0.3047 - val_acc: 0.9109\n",
      "Epoch 83/100\n",
      "30000/30000 [==============================] - 0s - loss: 0.5942 - acc: 0.7989 - val_loss: 0.3031 - val_acc: 0.9113\n",
      "Epoch 84/100\n",
      "30000/30000 [==============================] - 0s - loss: 0.5926 - acc: 0.8008 - val_loss: 0.3027 - val_acc: 0.9120\n",
      "Epoch 85/100\n",
      "30000/30000 [==============================] - 0s - loss: 0.5944 - acc: 0.7994 - val_loss: 0.3026 - val_acc: 0.9127\n",
      "Epoch 86/100\n",
      "30000/30000 [==============================] - 0s - loss: 0.5977 - acc: 0.7991 - val_loss: 0.3043 - val_acc: 0.9112\n",
      "Epoch 87/100\n",
      "30000/30000 [==============================] - 0s - loss: 0.5923 - acc: 0.7978 - val_loss: 0.3036 - val_acc: 0.9107\n",
      "Epoch 88/100\n",
      "30000/30000 [==============================] - 0s - loss: 0.5886 - acc: 0.7997 - val_loss: 0.3022 - val_acc: 0.9113\n",
      "Epoch 89/100\n",
      "30000/30000 [==============================] - 0s - loss: 0.5917 - acc: 0.7978 - val_loss: 0.3031 - val_acc: 0.9110\n",
      "Epoch 90/100\n",
      "30000/30000 [==============================] - 0s - loss: 0.5904 - acc: 0.8021 - val_loss: 0.3031 - val_acc: 0.9113\n",
      "Epoch 91/100\n",
      "30000/30000 [==============================] - 0s - loss: 0.5918 - acc: 0.7995 - val_loss: 0.3033 - val_acc: 0.9121\n",
      "Epoch 92/100\n",
      "30000/30000 [==============================] - 0s - loss: 0.5899 - acc: 0.8008 - val_loss: 0.3030 - val_acc: 0.9128\n",
      "Epoch 93/100\n",
      "30000/30000 [==============================] - 0s - loss: 0.5876 - acc: 0.8004 - val_loss: 0.3038 - val_acc: 0.9112\n",
      "Epoch 94/100\n",
      "30000/30000 [==============================] - 0s - loss: 0.5881 - acc: 0.7975 - val_loss: 0.3023 - val_acc: 0.9120\n",
      "Epoch 95/100\n",
      "30000/30000 [==============================] - 0s - loss: 0.5871 - acc: 0.8007 - val_loss: 0.3010 - val_acc: 0.9133\n",
      "Epoch 96/100\n",
      "30000/30000 [==============================] - 0s - loss: 0.5897 - acc: 0.7997 - val_loss: 0.3017 - val_acc: 0.9122\n",
      "Epoch 97/100\n",
      "30000/30000 [==============================] - 0s - loss: 0.5956 - acc: 0.8002 - val_loss: 0.3011 - val_acc: 0.9124\n",
      "Epoch 98/100\n",
      "30000/30000 [==============================] - 0s - loss: 0.5915 - acc: 0.7993 - val_loss: 0.3023 - val_acc: 0.9121\n",
      "Epoch 99/100\n",
      "30000/30000 [==============================] - 0s - loss: 0.5898 - acc: 0.8015 - val_loss: 0.3024 - val_acc: 0.9119\n",
      "Epoch 100/100\n",
      "30000/30000 [==============================] - 0s - loss: 0.5886 - acc: 0.7990 - val_loss: 0.3014 - val_acc: 0.9125\n"
     ]
    }
   ],
   "source": [
    "hist = model.fit(X_train, Y_train,\n",
    "                nb_epoch=100,\n",
    "                shuffle=True,\n",
    "                batch_size=256,\n",
    "                validation_data=(X_crossval, Y_crossval))"
   ]
  },
  {
   "cell_type": "code",
   "execution_count": 7,
   "metadata": {
    "collapsed": false
   },
   "outputs": [
    {
     "data": {
      "image/png": "[encoded data removed]",
      "text/plain": [
       "<matplotlib.figure.Figure at 0x7f47494a5f10>"
      ]
     },
     "metadata": {},
     "output_type": "display_data"
    }
   ],
   "source": [
    "plt.plot(hist.history['val_loss'], color ='b')\n",
    "plt.plot(hist.history['loss'], color='r')\n",
    "plt.plot(hist.history['val_acc'], color ='black')\n",
    "plt.plot(hist.history['acc'], color ='g')\n",
    "plt.show()"
   ]
  },
  {
   "cell_type": "code",
   "execution_count": null,
   "metadata": {
    "collapsed": true
   },
   "outputs": [],
   "source": []
  }
 ],
 "metadata": {
  "kernelspec": {
   "display_name": "Python 2",
   "language": "python",
   "name": "python2"
  },
  "language_info": {
   "codemirror_mode": {
    "name": "ipython",
    "version": 2
   },
   "file_extension": ".py",
   "mimetype": "text/x-python",
   "name": "python",
   "nbconvert_exporter": "python",
   "pygments_lexer": "ipython2",
   "version": "2.7.12"
  }
 },
 "nbformat": 4,
 "nbformat_minor": 0
}
